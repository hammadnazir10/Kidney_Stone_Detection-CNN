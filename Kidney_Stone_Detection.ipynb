{
 "cells": [
  {
   "cell_type": "code",
   "execution_count": 1,
   "id": "bce2025f",
   "metadata": {},
   "outputs": [],
   "source": [
    "# Importing Libraries\n",
    "import os\n",
    "import numpy as np\n",
    "import matplotlib.pyplot as plt\n",
    "import keras\n",
    "from keras.models import Sequential\n",
    "from keras.layers import Activation, Dense, Conv2D, MaxPooling2D, Dropout, Flatten\n",
    "from keras.preprocessing.image import ImageDataGenerator"
   ]
  },
  {
   "cell_type": "code",
   "execution_count": 2,
   "id": "f014cb8a",
   "metadata": {},
   "outputs": [],
   "source": [
    "# Setting the Path\n",
    "path = 'CT_images'"
   ]
  },
  {
   "cell_type": "code",
   "execution_count": 3,
   "id": "41b0164a",
   "metadata": {},
   "outputs": [],
   "source": [
    "# Loading the images\n",
    "train_data_dir = os.path.join(path, 'Train')\n",
    "test_data_dir = os.path.join(path, 'Test')"
   ]
  },
  {
   "cell_type": "code",
   "execution_count": 4,
   "id": "5122ab71",
   "metadata": {},
   "outputs": [],
   "source": [
    "# Image Preprocessing\n",
    "train_datagen = ImageDataGenerator(rescale=1./255)\n",
    "test_datagen = ImageDataGenerator(rescale=1./255)"
   ]
  },
  {
   "cell_type": "code",
   "execution_count": 5,
   "id": "22652a09",
   "metadata": {},
   "outputs": [
    {
     "name": "stdout",
     "output_type": "stream",
     "text": [
      "Found 5000 images belonging to 2 classes.\n",
      "Found 1454 images belonging to 2 classes.\n"
     ]
    }
   ],
   "source": [
    "# Training the Model\n",
    "train_generator = train_datagen.flow_from_directory(\n",
    "    train_data_dir,\n",
    "    target_size=(150,150),\n",
    "    batch_size=32,\n",
    "    class_mode='binary')\n",
    "\n",
    "test_generator = test_datagen.flow_from_directory(\n",
    "    test_data_dir,\n",
    "    target_size=(150,150),\n",
    "    batch_size=32,\n",
    "    class_mode='binary',\n",
    "    shuffle=False)"
   ]
  },
  {
   "cell_type": "code",
   "execution_count": 6,
   "id": "110886d6",
   "metadata": {},
   "outputs": [],
   "source": [
    "model = Sequential()\n",
    "\n",
    "#Adding convolutional layers\n",
    "model.add(Conv2D(32, (3, 3), input_shape=(150, 150, 3)))\n",
    "model.add(Activation('relu'))\n",
    "model.add(MaxPooling2D(pool_size=(2, 2)))\n",
    "\n",
    "#Adding a second convolutional layer\n",
    "model.add(Conv2D(32, (3, 3)))\n",
    "model.add(Activation('relu'))\n",
    "model.add(MaxPooling2D(pool_size=(2, 2)))\n",
    "\n",
    "\n",
    "model.add(Flatten())  # this converts our 3D feature maps to 1D feature vectors\n",
    "model.add(Dense(64))\n",
    "model.add(Activation('relu'))\n",
    "model.add(Dropout(0.5))\n",
    "model.add(Dense(1))\n",
    "model.add(Activation('sigmoid'))"
   ]
  },
  {
   "cell_type": "code",
   "execution_count": 7,
   "id": "10c6db6f",
   "metadata": {},
   "outputs": [],
   "source": [
    "# Compiling the model\n",
    "model.compile(loss='binary_crossentropy',\n",
    "              optimizer='adam',\n",
    "              metrics=['accuracy'])"
   ]
  },
  {
   "cell_type": "code",
   "execution_count": 8,
   "id": "2448a230",
   "metadata": {},
   "outputs": [
    {
     "name": "stdout",
     "output_type": "stream",
     "text": [
      "Epoch 1/80\n",
      "32/32 [==============================] - 33s 985ms/step - loss: 0.4978 - accuracy: 0.8164 - val_loss: 0.0669 - val_accuracy: 1.0000\n",
      "Epoch 2/80\n",
      "32/32 [==============================] - 28s 875ms/step - loss: 0.2756 - accuracy: 0.8930 - val_loss: 0.1790 - val_accuracy: 0.9346\n",
      "Epoch 3/80\n",
      "32/32 [==============================] - 28s 875ms/step - loss: 0.1064 - accuracy: 0.9648 - val_loss: 0.8093 - val_accuracy: 0.6836\n",
      "Epoch 4/80\n",
      "32/32 [==============================] - 28s 879ms/step - loss: 0.0560 - accuracy: 0.9834 - val_loss: 0.7405 - val_accuracy: 0.7461\n",
      "Epoch 5/80\n",
      "32/32 [==============================] - 27s 862ms/step - loss: 0.0291 - accuracy: 0.9890 - val_loss: 0.9687 - val_accuracy: 0.7451\n",
      "Epoch 6/80\n",
      "32/32 [==============================] - 28s 874ms/step - loss: 0.0255 - accuracy: 0.9951 - val_loss: 0.9948 - val_accuracy: 0.7520\n",
      "Epoch 7/80\n",
      "32/32 [==============================] - 29s 901ms/step - loss: 0.0173 - accuracy: 0.9930 - val_loss: 1.0070 - val_accuracy: 0.7871\n",
      "Epoch 8/80\n",
      "32/32 [==============================] - 28s 879ms/step - loss: 0.0133 - accuracy: 0.9961 - val_loss: 1.5231 - val_accuracy: 0.7314\n",
      "Epoch 9/80\n",
      "32/32 [==============================] - 29s 914ms/step - loss: 0.0216 - accuracy: 0.9922 - val_loss: 1.0450 - val_accuracy: 0.7637\n",
      "Epoch 10/80\n",
      "32/32 [==============================] - 28s 868ms/step - loss: 0.0176 - accuracy: 0.9951 - val_loss: 1.2570 - val_accuracy: 0.7373\n",
      "Epoch 11/80\n",
      "32/32 [==============================] - 31s 982ms/step - loss: 0.0152 - accuracy: 0.9961 - val_loss: 1.6628 - val_accuracy: 0.7412\n",
      "Epoch 12/80\n",
      "32/32 [==============================] - 28s 868ms/step - loss: 0.0157 - accuracy: 0.9941 - val_loss: 1.5424 - val_accuracy: 0.7373\n",
      "Epoch 13/80\n",
      "32/32 [==============================] - 28s 877ms/step - loss: 0.0101 - accuracy: 1.0000 - val_loss: 1.3604 - val_accuracy: 0.7500\n",
      "Epoch 14/80\n",
      "32/32 [==============================] - 28s 866ms/step - loss: 0.0096 - accuracy: 0.9990 - val_loss: 2.0218 - val_accuracy: 0.6709\n",
      "Epoch 15/80\n",
      "32/32 [==============================] - 27s 860ms/step - loss: 0.0080 - accuracy: 0.9971 - val_loss: 1.3030 - val_accuracy: 0.7744\n",
      "Epoch 16/80\n",
      "32/32 [==============================] - 27s 849ms/step - loss: 0.0112 - accuracy: 0.9970 - val_loss: 1.6248 - val_accuracy: 0.7461\n",
      "Epoch 17/80\n",
      "32/32 [==============================] - 28s 864ms/step - loss: 0.0114 - accuracy: 0.9971 - val_loss: 1.4376 - val_accuracy: 0.7754\n",
      "Epoch 18/80\n",
      "32/32 [==============================] - 28s 876ms/step - loss: 0.0053 - accuracy: 0.9971 - val_loss: 2.1591 - val_accuracy: 0.6738\n",
      "Epoch 19/80\n",
      "32/32 [==============================] - 29s 910ms/step - loss: 0.0141 - accuracy: 0.9951 - val_loss: 1.9329 - val_accuracy: 0.7070\n",
      "Epoch 20/80\n",
      "32/32 [==============================] - 28s 889ms/step - loss: 0.0174 - accuracy: 1.0000 - val_loss: 1.8119 - val_accuracy: 0.7266\n",
      "Epoch 21/80\n",
      "32/32 [==============================] - 31s 973ms/step - loss: 0.0097 - accuracy: 0.9980 - val_loss: 2.0537 - val_accuracy: 0.7070\n",
      "Epoch 22/80\n",
      "32/32 [==============================] - 28s 883ms/step - loss: 0.0112 - accuracy: 0.9961 - val_loss: 1.5416 - val_accuracy: 0.7432\n",
      "Epoch 23/80\n",
      "32/32 [==============================] - 29s 902ms/step - loss: 0.0081 - accuracy: 0.9990 - val_loss: 2.3470 - val_accuracy: 0.7002\n",
      "Epoch 24/80\n",
      "32/32 [==============================] - 28s 885ms/step - loss: 0.0130 - accuracy: 0.9961 - val_loss: 1.4148 - val_accuracy: 0.7832\n",
      "Epoch 25/80\n",
      "32/32 [==============================] - 28s 878ms/step - loss: 0.0162 - accuracy: 0.9961 - val_loss: 2.0358 - val_accuracy: 0.7051\n",
      "Epoch 26/80\n",
      "32/32 [==============================] - 28s 874ms/step - loss: 0.0132 - accuracy: 0.9961 - val_loss: 2.3713 - val_accuracy: 0.6943\n",
      "Epoch 27/80\n",
      "32/32 [==============================] - 27s 858ms/step - loss: 0.0135 - accuracy: 0.9980 - val_loss: 1.9499 - val_accuracy: 0.7432\n",
      "Epoch 28/80\n",
      "32/32 [==============================] - 29s 904ms/step - loss: 0.0099 - accuracy: 0.9990 - val_loss: 2.0865 - val_accuracy: 0.7109\n",
      "Epoch 29/80\n",
      "32/32 [==============================] - 30s 930ms/step - loss: 0.0082 - accuracy: 0.9971 - val_loss: 1.6077 - val_accuracy: 0.7354\n",
      "Epoch 30/80\n",
      "32/32 [==============================] - 29s 916ms/step - loss: 0.0090 - accuracy: 0.9980 - val_loss: 2.4224 - val_accuracy: 0.6787\n",
      "Epoch 31/80\n",
      "32/32 [==============================] - 29s 893ms/step - loss: 0.0093 - accuracy: 0.9980 - val_loss: 2.3434 - val_accuracy: 0.7051\n",
      "Epoch 32/80\n",
      "32/32 [==============================] - 32s 1s/step - loss: 0.0059 - accuracy: 0.9980 - val_loss: 2.5434 - val_accuracy: 0.6729\n",
      "Epoch 33/80\n",
      "32/32 [==============================] - 30s 939ms/step - loss: 0.0113 - accuracy: 0.9971 - val_loss: 2.1611 - val_accuracy: 0.7100\n",
      "Epoch 34/80\n",
      "32/32 [==============================] - 29s 903ms/step - loss: 0.0122 - accuracy: 0.9990 - val_loss: 2.5525 - val_accuracy: 0.7090\n",
      "Epoch 35/80\n",
      "32/32 [==============================] - 29s 905ms/step - loss: 0.0096 - accuracy: 1.0000 - val_loss: 1.3340 - val_accuracy: 0.8037\n",
      "Epoch 36/80\n",
      "32/32 [==============================] - 30s 934ms/step - loss: 0.0083 - accuracy: 0.9980 - val_loss: 2.0052 - val_accuracy: 0.6875\n",
      "Epoch 37/80\n",
      "32/32 [==============================] - 30s 950ms/step - loss: 0.0072 - accuracy: 0.9990 - val_loss: 2.2932 - val_accuracy: 0.6777\n",
      "Epoch 38/80\n",
      "32/32 [==============================] - 31s 984ms/step - loss: 0.0107 - accuracy: 0.9990 - val_loss: 2.8533 - val_accuracy: 0.6621\n",
      "Epoch 39/80\n",
      "32/32 [==============================] - 29s 918ms/step - loss: 0.0103 - accuracy: 0.9971 - val_loss: 3.3584 - val_accuracy: 0.6436\n",
      "Epoch 40/80\n",
      "32/32 [==============================] - 29s 898ms/step - loss: 0.0076 - accuracy: 1.0000 - val_loss: 2.7974 - val_accuracy: 0.6719\n",
      "Epoch 41/80\n",
      "32/32 [==============================] - 29s 913ms/step - loss: 0.0123 - accuracy: 0.9971 - val_loss: 3.2701 - val_accuracy: 0.6309\n",
      "Epoch 42/80\n",
      "32/32 [==============================] - 30s 959ms/step - loss: 0.0113 - accuracy: 0.9971 - val_loss: 2.0142 - val_accuracy: 0.7021\n",
      "Epoch 43/80\n",
      "32/32 [==============================] - 29s 906ms/step - loss: 0.0099 - accuracy: 0.9961 - val_loss: 1.9241 - val_accuracy: 0.7236\n",
      "Epoch 44/80\n",
      "32/32 [==============================] - 29s 914ms/step - loss: 0.0109 - accuracy: 0.9990 - val_loss: 1.9803 - val_accuracy: 0.7051\n",
      "Epoch 45/80\n",
      "32/32 [==============================] - 29s 897ms/step - loss: 0.0103 - accuracy: 0.9980 - val_loss: 2.3027 - val_accuracy: 0.6895\n",
      "Epoch 46/80\n",
      "32/32 [==============================] - 30s 928ms/step - loss: 0.0057 - accuracy: 0.9990 - val_loss: 2.9678 - val_accuracy: 0.6680\n",
      "Epoch 47/80\n",
      "32/32 [==============================] - 30s 932ms/step - loss: 0.0103 - accuracy: 0.9971 - val_loss: 2.6925 - val_accuracy: 0.6719\n",
      "Epoch 48/80\n",
      "32/32 [==============================] - 28s 886ms/step - loss: 0.0072 - accuracy: 0.9970 - val_loss: 2.4286 - val_accuracy: 0.6846\n",
      "Epoch 49/80\n",
      "32/32 [==============================] - 29s 898ms/step - loss: 0.0120 - accuracy: 0.9980 - val_loss: 2.5198 - val_accuracy: 0.6670\n",
      "Epoch 50/80\n",
      "32/32 [==============================] - 29s 898ms/step - loss: 0.0112 - accuracy: 0.9980 - val_loss: 2.2359 - val_accuracy: 0.6885\n",
      "Epoch 51/80\n",
      "32/32 [==============================] - 28s 895ms/step - loss: 0.0100 - accuracy: 0.9990 - val_loss: 2.0078 - val_accuracy: 0.7471\n",
      "Epoch 52/80\n",
      "32/32 [==============================] - 29s 897ms/step - loss: 0.0089 - accuracy: 0.9971 - val_loss: 3.2863 - val_accuracy: 0.6787\n",
      "Epoch 53/80\n",
      "32/32 [==============================] - 29s 896ms/step - loss: 0.0072 - accuracy: 0.9971 - val_loss: 2.3412 - val_accuracy: 0.7246\n",
      "Epoch 54/80\n",
      "32/32 [==============================] - 29s 900ms/step - loss: 0.0106 - accuracy: 0.9971 - val_loss: 2.4711 - val_accuracy: 0.7402\n",
      "Epoch 55/80\n",
      "32/32 [==============================] - 30s 941ms/step - loss: 0.0106 - accuracy: 0.9961 - val_loss: 3.0903 - val_accuracy: 0.6914\n",
      "Epoch 56/80\n",
      "32/32 [==============================] - 30s 933ms/step - loss: 0.0098 - accuracy: 0.9951 - val_loss: 2.4209 - val_accuracy: 0.7080\n",
      "Epoch 57/80\n",
      "32/32 [==============================] - 28s 875ms/step - loss: 0.0037 - accuracy: 0.9990 - val_loss: 1.8645 - val_accuracy: 0.7666\n"
     ]
    },
    {
     "name": "stdout",
     "output_type": "stream",
     "text": [
      "Epoch 58/80\n",
      "32/32 [==============================] - 28s 877ms/step - loss: 0.0047 - accuracy: 0.9990 - val_loss: 3.5776 - val_accuracy: 0.7354\n",
      "Epoch 59/80\n",
      "32/32 [==============================] - 28s 877ms/step - loss: 0.0084 - accuracy: 0.9980 - val_loss: 3.6308 - val_accuracy: 0.6455\n",
      "Epoch 60/80\n",
      "32/32 [==============================] - 28s 883ms/step - loss: 0.0031 - accuracy: 1.0000 - val_loss: 2.8881 - val_accuracy: 0.6885\n",
      "Epoch 61/80\n",
      "32/32 [==============================] - 28s 890ms/step - loss: 0.0074 - accuracy: 0.9990 - val_loss: 4.1582 - val_accuracy: 0.6328\n",
      "Epoch 62/80\n",
      "32/32 [==============================] - 28s 876ms/step - loss: 0.0100 - accuracy: 0.9971 - val_loss: 2.1778 - val_accuracy: 0.7207\n",
      "Epoch 63/80\n",
      "32/32 [==============================] - 28s 894ms/step - loss: 0.0077 - accuracy: 0.9951 - val_loss: 2.6778 - val_accuracy: 0.6855\n",
      "Epoch 64/80\n",
      "32/32 [==============================] - 28s 883ms/step - loss: 0.0019 - accuracy: 1.0000 - val_loss: 3.2554 - val_accuracy: 0.6650\n",
      "Epoch 65/80\n",
      "32/32 [==============================] - 28s 893ms/step - loss: 0.0043 - accuracy: 0.9990 - val_loss: 3.3322 - val_accuracy: 0.6543\n",
      "Epoch 66/80\n",
      "32/32 [==============================] - 28s 893ms/step - loss: 0.0067 - accuracy: 0.9980 - val_loss: 2.5737 - val_accuracy: 0.7031\n",
      "Epoch 67/80\n",
      "32/32 [==============================] - 28s 888ms/step - loss: 0.0041 - accuracy: 1.0000 - val_loss: 1.3698 - val_accuracy: 0.8955\n",
      "Epoch 68/80\n",
      "32/32 [==============================] - 28s 877ms/step - loss: 0.0049 - accuracy: 0.9980 - val_loss: 3.1655 - val_accuracy: 0.7539\n",
      "Epoch 69/80\n",
      "32/32 [==============================] - 28s 882ms/step - loss: 0.0132 - accuracy: 0.9961 - val_loss: 2.1657 - val_accuracy: 0.6553\n",
      "Epoch 70/80\n",
      "32/32 [==============================] - 28s 894ms/step - loss: 0.0062 - accuracy: 0.9990 - val_loss: 2.0325 - val_accuracy: 0.7051\n",
      "Epoch 71/80\n",
      "32/32 [==============================] - 28s 892ms/step - loss: 0.0050 - accuracy: 0.9990 - val_loss: 2.8402 - val_accuracy: 0.6826\n",
      "Epoch 72/80\n",
      "32/32 [==============================] - 28s 881ms/step - loss: 0.0035 - accuracy: 1.0000 - val_loss: 2.8442 - val_accuracy: 0.7598\n",
      "Epoch 73/80\n",
      "32/32 [==============================] - 28s 886ms/step - loss: 0.0033 - accuracy: 0.9980 - val_loss: 2.2293 - val_accuracy: 0.7715\n",
      "Epoch 74/80\n",
      "32/32 [==============================] - 29s 897ms/step - loss: 0.0017 - accuracy: 1.0000 - val_loss: 2.5711 - val_accuracy: 0.7666\n",
      "Epoch 75/80\n",
      "32/32 [==============================] - 28s 889ms/step - loss: 0.0024 - accuracy: 1.0000 - val_loss: 3.0203 - val_accuracy: 0.7373\n",
      "Epoch 76/80\n",
      "32/32 [==============================] - 28s 873ms/step - loss: 0.0018 - accuracy: 0.9990 - val_loss: 3.3015 - val_accuracy: 0.7559\n",
      "Epoch 77/80\n",
      "32/32 [==============================] - 28s 880ms/step - loss: 0.0029 - accuracy: 0.9990 - val_loss: 2.9012 - val_accuracy: 0.7676\n",
      "Epoch 78/80\n",
      "32/32 [==============================] - 28s 872ms/step - loss: 0.0047 - accuracy: 0.9980 - val_loss: 3.2193 - val_accuracy: 0.7393\n",
      "Epoch 79/80\n",
      "32/32 [==============================] - 28s 885ms/step - loss: 0.0030 - accuracy: 0.9990 - val_loss: 3.2816 - val_accuracy: 0.7207\n",
      "Epoch 80/80\n",
      "32/32 [==============================] - 28s 885ms/step - loss: 0.0030 - accuracy: 0.9990 - val_loss: 3.2344 - val_accuracy: 0.7256\n"
     ]
    },
    {
     "data": {
      "text/plain": [
       "<keras.callbacks.History at 0x167eed025b0>"
      ]
     },
     "execution_count": 8,
     "metadata": {},
     "output_type": "execute_result"
    }
   ],
   "source": [
    "# Training the Model\n",
    "model.fit(\n",
    "    train_generator,\n",
    "    steps_per_epoch=32,\n",
    "    epochs=80,\n",
    "    validation_data=test_generator,\n",
    "    validation_steps=32)"
   ]
  },
  {
   "cell_type": "code",
   "execution_count": 9,
   "id": "78e8eb54",
   "metadata": {},
   "outputs": [
    {
     "name": "stdout",
     "output_type": "stream",
     "text": [
      "40/40 [==============================] - 13s 323ms/step - loss: 2.6391 - accuracy: 0.7648\n"
     ]
    },
    {
     "data": {
      "text/plain": [
       "[2.6390764713287354, 0.764843761920929]"
      ]
     },
     "execution_count": 9,
     "metadata": {},
     "output_type": "execute_result"
    }
   ],
   "source": [
    "model.evaluate(test_generator,steps=40)"
   ]
  },
  {
   "cell_type": "code",
   "execution_count": 10,
   "id": "fa20c5df",
   "metadata": {},
   "outputs": [
    {
     "name": "stdout",
     "output_type": "stream",
     "text": [
      "Model: \"sequential\"\n",
      "_________________________________________________________________\n",
      " Layer (type)                Output Shape              Param #   \n",
      "=================================================================\n",
      " conv2d (Conv2D)             (None, 148, 148, 32)      896       \n",
      "                                                                 \n",
      " activation (Activation)     (None, 148, 148, 32)      0         \n",
      "                                                                 \n",
      " max_pooling2d (MaxPooling2D  (None, 74, 74, 32)       0         \n",
      " )                                                               \n",
      "                                                                 \n",
      " conv2d_1 (Conv2D)           (None, 72, 72, 32)        9248      \n",
      "                                                                 \n",
      " activation_1 (Activation)   (None, 72, 72, 32)        0         \n",
      "                                                                 \n",
      " max_pooling2d_1 (MaxPooling  (None, 36, 36, 32)       0         \n",
      " 2D)                                                             \n",
      "                                                                 \n",
      " flatten (Flatten)           (None, 41472)             0         \n",
      "                                                                 \n",
      " dense (Dense)               (None, 64)                2654272   \n",
      "                                                                 \n",
      " activation_2 (Activation)   (None, 64)                0         \n",
      "                                                                 \n",
      " dropout (Dropout)           (None, 64)                0         \n",
      "                                                                 \n",
      " dense_1 (Dense)             (None, 1)                 65        \n",
      "                                                                 \n",
      " activation_3 (Activation)   (None, 1)                 0         \n",
      "                                                                 \n",
      "=================================================================\n",
      "Total params: 2,664,481\n",
      "Trainable params: 2,664,481\n",
      "Non-trainable params: 0\n",
      "_________________________________________________________________\n"
     ]
    }
   ],
   "source": [
    "model.summary()"
   ]
  },
  {
   "cell_type": "code",
   "execution_count": 11,
   "id": "43d65f97",
   "metadata": {},
   "outputs": [],
   "source": [
    "# Saving the Model\n",
    "model.save('kidney_stone_detection_model.h5')"
   ]
  },
  {
   "cell_type": "code",
   "execution_count": 12,
   "id": "4acc681d",
   "metadata": {},
   "outputs": [],
   "source": [
    "model = keras.models.load_model('kidney_stone_detection_model.h5')"
   ]
  },
  {
   "cell_type": "code",
   "execution_count": 14,
   "id": "f3859149",
   "metadata": {},
   "outputs": [],
   "source": [
    "# Creating the GUI\n",
    "from tkinter import *\n",
    "from PIL import Image, ImageTk\n",
    "\n",
    "import tkinter\n",
    "import tkinter as tk\n",
    "import customtkinter\n",
    "from tkinter import filedialog\n",
    "from tkinter.filedialog import askopenfilename\n",
    "from tkinter import messagebox\n",
    "import keras.utils as image\n",
    "import numpy as np\n",
    "import os\n",
    "\n",
    "customtkinter.set_appearance_mode(\"System\")\n",
    "root = customtkinter.CTk()\n",
    "\n",
    "#window size\n",
    "root.rowconfigure(0,weight=1)\n",
    "root.columnconfigure(0,weight=1)\n",
    "\n",
    "root.geometry('420x270')\n",
    "\n",
    "root.title('Kidney Stone Detection')\n",
    "\n",
    "def reset_btn():\n",
    "    global label_prediction\n",
    "    result = tk.Label(root, text=\"                                                  \")\n",
    "    result.grid(row=1,column=1,sticky='nw',padx=20,pady=20)\n",
    "\n",
    "# Function to Select Image\n",
    "def browse_btn():\n",
    "    global image_name\n",
    "    image_name = askopenfilename(title='Select Image')\n",
    "    \n",
    "    img = Image.open(image_name)\n",
    "    img = img.resize((200, 200), Image.ANTIALIAS)\n",
    "    img = ImageTk.PhotoImage(img)\n",
    "    panel = tk.Label(root, image=img)\n",
    "    panel.image = img\n",
    "    panel.grid(row=0,column=1,sticky='nw',padx=20,pady=20)\n",
    "\n",
    "# Function to Predict\n",
    "def predict_btn():\n",
    "    global label_prediction\n",
    "    global image_name\n",
    "    test_img = image.load_img(image_name, target_size=(150, 150))\n",
    "    test_img = image.img_to_array(test_img)\n",
    "    test_img = np.expand_dims(test_img, axis=0)\n",
    "    result = model.predict(test_img)\n",
    "    print(result)\n",
    "    if result[0][0] == 1:\n",
    "        result = tk.Label(root, text=\"Kidney Stone Detected\")\n",
    "        result.grid(row=1,column=1,sticky='nw',padx=20,pady=20)\n",
    "    elif result[0][0] == 0:\n",
    "        result = tk.Label(root, text=\"No Kidney Stone Detected\")\n",
    "        result.grid(row=1,column=1,sticky='nw',padx=20,pady=20)\n",
    "\n",
    "# Browse Button\n",
    "browsebtn = customtkinter.CTkButton(master=root, text=\"Browse Image\", command=browse_btn)\n",
    "browsebtn.grid(row=0, column=0,sticky='nw',padx=20,pady=20)\n",
    "\n",
    "# Predict Butoon\n",
    "predictbtn = customtkinter.CTkButton(master=root, text=\"Predict\", command=predict_btn)\n",
    "predictbtn.grid(row=1, column=0,sticky='nw',padx=20,pady=20)\n",
    "predictbtn1 = customtkinter.CTkButton(master=root, text=\"Reset\", command=reset_btn)\n",
    "predictbtn1.grid(row=2, column=0,sticky='nw',padx=20,pady=20)\n",
    "\n",
    "\n",
    "\n",
    "\n",
    "# Running the GUI\n",
    "root.mainloop()"
   ]
  },
  {
   "cell_type": "code",
   "execution_count": null,
   "id": "5142ed48",
   "metadata": {},
   "outputs": [],
   "source": []
  },
  {
   "cell_type": "code",
   "execution_count": null,
   "id": "aa6c7dbd",
   "metadata": {},
   "outputs": [],
   "source": []
  }
 ],
 "metadata": {
  "kernelspec": {
   "display_name": "Python 3 (ipykernel)",
   "language": "python",
   "name": "python3"
  },
  "language_info": {
   "codemirror_mode": {
    "name": "ipython",
    "version": 3
   },
   "file_extension": ".py",
   "mimetype": "text/x-python",
   "name": "python",
   "nbconvert_exporter": "python",
   "pygments_lexer": "ipython3",
   "version": "3.9.12"
  }
 },
 "nbformat": 4,
 "nbformat_minor": 5
}
